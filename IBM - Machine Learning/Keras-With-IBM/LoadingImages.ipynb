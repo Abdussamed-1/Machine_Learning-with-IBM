{
 "cells": [
  {
   "cell_type": "markdown",
   "metadata": {},
   "source": [
    "<center>\n",
    "    <img src=\"https://cf-courses-data.s3.us.cloud-object-storage.appdomain.cloud/assets/logos/SN_web_lightmode.png\" width=\"300\" alt=\"cognitiveclass.ai logo\">\n",
    "</center>\n"
   ]
  },
  {
   "cell_type": "markdown",
   "metadata": {},
   "source": [
    "# **Loading Images in Keras**\n"
   ]
  },
  {
   "cell_type": "markdown",
   "metadata": {},
   "source": [
    "Estimated time needed: **45** minutes\n"
   ]
  },
  {
   "cell_type": "markdown",
   "metadata": {},
   "source": [
    "<h1> CNN Training Pipeline </h1></s>\n"
   ]
  },
  {
   "cell_type": "markdown",
   "metadata": {},
   "source": [
    "Convolutional neural networks (CNNs) have had great success in certain kinds of problems, such as image recognition. Data loading and preparation are important steps when it comes to working with such models. Increasingly, data augmentation is also required for more complex object recognition tasks. In this lab, we will discover various ways of loading images, as well as converting, augmenting and saving image datasets using the Keras API.\n"
   ]
  },
  {
   "cell_type": "markdown",
   "metadata": {},
   "source": [
    "![](https://cf-courses-data.s3.us.cloud-object-storage.appdomain.cloud/IBMDeveloperSkillsNetwork-ML311-Coursera/images/cnn_image_loading_lab.drawio.png)\n"
   ]
  },
  {
   "cell_type": "markdown",
   "metadata": {},
   "source": [
    "### What's a Digital Image?\n"
   ]
  },
  {
   "cell_type": "markdown",
   "metadata": {},
   "source": [
    "A gray-scale digital image can be interpreted as a rectangular array of numbers. If we zoom into the region, we see the image is comprised of a rectangular grid of discrete blocks called pixels. We can represent these pixels with numbers called intensity values ranging from 0 to 255, as shown here:\n"
   ]
  },
  {
   "cell_type": "markdown",
   "metadata": {},
   "source": [
    "![](https://cf-courses-data.s3.us.cloud-object-storage.appdomain.cloud/IBMDeveloperSkillsNetwork-ML311-Coursera/labs/Module3/L1/Gray_scale_lana.png)\n"
   ]
  },
  {
   "cell_type": "markdown",
   "metadata": {},
   "source": [
    "Color images are a combination of red, blue, and green intensity values as shown here\n"
   ]
  },
  {
   "cell_type": "markdown",
   "metadata": {},
   "source": [
    "![](https://cf-courses-data.s3.us.cloud-object-storage.appdomain.cloud/IBMDeveloperSkillsNetwork-ML311-Coursera/labs/Module3/L1/RGB_ape.png)\n"
   ]
  },
  {
   "cell_type": "markdown",
   "metadata": {},
   "source": [
    "each channel has  values ranging from 0 to 255.\n"
   ]
  },
  {
   "cell_type": "markdown",
   "metadata": {},
   "source": [
    "![](https://cf-courses-data.s3.us.cloud-object-storage.appdomain.cloud/IBMDeveloperSkillsNetwork-ML311-Coursera/labs/Module3/L1/RGB_array.png)\n"
   ]
  },
  {
   "cell_type": "markdown",
   "metadata": {},
   "source": [
    "Finally, to apply a neural network to Karis we sometimes add a batch dimension, this is just  an extra dimension. Just think of the batch dimension as an address that contains an image array.\n"
   ]
  },
  {
   "cell_type": "markdown",
   "metadata": {},
   "source": [
    "![](https://cf-courses-data.s3.us.cloud-object-storage.appdomain.cloud/IBMDeveloperSkillsNetwork-ML311-Coursera/labs/Module3/L1/batch_dim_images.png)\n"
   ]
  },
  {
   "cell_type": "markdown",
   "metadata": {},
   "source": [
    "## **Table of Contents**\n",
    "\n",
    "<ol>\n",
    "    <li><a href=\"https://#Objectives\">Objectives</a></li>\n",
    "    <li>\n",
    "        <a href=\"https://#Setup\">Setup</a>\n",
    "    </li>\n",
    "    <li><a href=\"https://#Background\">Objectives</a></li>\n",
    "    <li>\n",
    "        <a href=\"https://#Ways to load images\">Ways to load images</a>\n",
    "        <ol>\n",
    "            <li><a href=\"https://#Ready-to-use toy datasets\">Ready-to-use toy datasets</a></li>\n",
    "            <li><a href=\"https://#Load individual images as PIL objects\">Load individual images as PIL objects</a></li>\n",
    "            <li><a href=\"https://#Load from directory of images\">Load from directory of images</a></li>\n",
    "            <li><a href=\"https://#Load image from URL\">Load image from URL</a></li>\n",
    "        </ol>\n",
    "    </li>\n",
    "</ol>\n"
   ]
  },
  {
   "cell_type": "markdown",
   "metadata": {},
   "source": [
    "<h1 href=\"Objectives\">Objectives</h1>\n",
    "\n",
    "After completing this lab you will be able to **apply** Keras to:\n",
    "\n",
    "*   Load and display images in multiple ways\n",
    "*   Convert between array and PIL formats\n",
    "*   Convert images to grayscale, augment images through transformations and save images to files\n"
   ]
  },
  {
   "cell_type": "markdown",
   "metadata": {},
   "source": [
    "***\n"
   ]
  },
  {
   "cell_type": "markdown",
   "metadata": {},
   "source": [
    "<h2 href=\"Setup\">Setup</h2>\n"
   ]
  },
  {
   "cell_type": "markdown",
   "metadata": {},
   "source": [
    "For this lab, we will be using the following libraries:\n",
    "\n",
    "*   [`numpy`](https://numpy.org/?utm_medium=Exinfluencer&utm_source=Exinfluencer&utm_content=000026UJ&utm_term=10006555&utm_id=NA-SkillsNetwork-Channel-SkillsNetworkCoursesIBMML0187ENSkillsNetwork31430127-2021-01-01) for mathematical operations.\n",
    "*   [`Pillow`](https://pillow.readthedocs.io/en/stable/?utm_medium=Exinfluencer&utm_source=Exinfluencer&utm_content=000026UJ&utm_term=10006555&utm_id=NA-SkillsNetwork-Channel-SkillsNetworkCoursesIBMML0187ENSkillsNetwork31430127-2021-01-01) for image processing functions.\n",
    "*   [`OpenCV`](https://docs.opencv.org/4.x/index.html?utm_medium=Exinfluencer&utm_source=Exinfluencer&utm_content=000026UJ&utm_term=10006555&utm_id=NA-SkillsNetwork-Channel-SkillsNetworkCoursesIBMML0187ENSkillsNetwork31430127-2021-01-01) for other image processing functions.\n",
    "*   [`tensorflow`](https://www.tensorflow.org/?utm_medium=Exinfluencer&utm_source=Exinfluencer&utm_content=000026UJ&utm_term=10006555&utm_id=NA-SkillsNetwork-Channel-SkillsNetworkCoursesIBMML0187ENSkillsNetwork31430127-2021-01-01) for machine learning and neural network related functions.\n",
    "*   [`matplotlib`](https://matplotlib.org/?utm_medium=Exinfluencer&utm_source=Exinfluencer&utm_content=000026UJ&utm_term=10006555&utm_id=NA-SkillsNetwork-Channel-SkillsNetworkCoursesIBMML0187ENSkillsNetwork31430127-2021-01-01) for additional plotting tools.\n",
    "*   [`keras`](https://keras.io/?utm_medium=Exinfluencer&utm_source=Exinfluencer&utm_content=000026UJ&utm_term=10006555&utm_id=NA-SkillsNetwork-Channel-SkillsNetworkCoursesIBMML0187ENSkillsNetwork31430127-2021-01-01) for building artificial neural networks.\n"
   ]
  },
  {
   "cell_type": "markdown",
   "metadata": {},
   "source": [
    "### Installing Required Libraries\n",
    "\n",
    "The following required libraries are pre-installed in the Skills Network Labs environment. However, if you run these notebook commands in a different Jupyter environment (e.g. Watson Studio or Ananconda), you will need to install these libraries by removing the `#` sign before `!mamba` in the code cell below.\n"
   ]
  },
  {
   "cell_type": "code",
   "execution_count": null,
   "metadata": {},
   "outputs": [],
   "source": [
    "# All Libraries required for this lab are listed below. The libraries pre-installed on Skills Network Labs are commented.\n",
    "#!pip install numpy==1.22.3 matplotlib==3.5.1 tensorflow==2.9.0 opencv-python==4.5.5.62 keras\n",
    "\n",
    "# Note: If your environment doesn't support \"!mamba install\", use \"!pip install --user\"\n",
    "\n",
    "# RESTART YOUR KERNEL AFTERWARD AS WELL"
   ]
  },
  {
   "cell_type": "code",
   "execution_count": null,
   "metadata": {},
   "outputs": [],
   "source": [
    "!pip3 install --upgrade tensorflow\n",
    "\n",
    "# RESTART YOUR KERNEL AFTERWARD AS WELL"
   ]
  },
  {
   "cell_type": "markdown",
   "metadata": {},
   "source": [
    "### Importing Required Libraries\n",
    "\n",
    "*We recommend you import all required libraries in one place (here):*\n"
   ]
  },
  {
   "cell_type": "code",
   "execution_count": 10,
   "metadata": {},
   "outputs": [
    {
     "name": "stdout",
     "output_type": "stream",
     "text": [
      "Collecting opencv-python\n",
      "  Downloading opencv_python-4.10.0.84-cp37-abi3-win_amd64.whl.metadata (20 kB)\n",
      "Requirement already satisfied: numpy>=1.21.2 in c:\\users\\samet\\anaconda3\\lib\\site-packages (from opencv-python) (1.26.4)\n",
      "Downloading opencv_python-4.10.0.84-cp37-abi3-win_amd64.whl (38.8 MB)\n",
      "   ---------------------------------------- 0.0/38.8 MB ? eta -:--:--\n",
      "   ---------------------------------------- 0.3/38.8 MB ? eta -:--:--\n",
      "    --------------------------------------- 0.8/38.8 MB 3.1 MB/s eta 0:00:13\n",
      "   - -------------------------------------- 1.6/38.8 MB 2.9 MB/s eta 0:00:13\n",
      "   -- ------------------------------------- 2.1/38.8 MB 2.9 MB/s eta 0:00:13\n",
      "   -- ------------------------------------- 2.6/38.8 MB 2.9 MB/s eta 0:00:13\n",
      "   --- ------------------------------------ 3.4/38.8 MB 2.9 MB/s eta 0:00:13\n",
      "   ---- ----------------------------------- 3.9/38.8 MB 2.9 MB/s eta 0:00:13\n",
      "   ---- ----------------------------------- 4.5/38.8 MB 2.9 MB/s eta 0:00:12\n",
      "   ----- ---------------------------------- 5.2/38.8 MB 2.9 MB/s eta 0:00:12\n",
      "   ----- ---------------------------------- 5.8/38.8 MB 2.9 MB/s eta 0:00:12\n",
      "   ------ --------------------------------- 6.3/38.8 MB 2.9 MB/s eta 0:00:12\n",
      "   ------- -------------------------------- 7.1/38.8 MB 2.9 MB/s eta 0:00:12\n",
      "   ------- -------------------------------- 7.6/38.8 MB 2.9 MB/s eta 0:00:11\n",
      "   -------- ------------------------------- 8.1/38.8 MB 2.9 MB/s eta 0:00:11\n",
      "   --------- ------------------------------ 8.9/38.8 MB 2.9 MB/s eta 0:00:11\n",
      "   --------- ------------------------------ 9.4/38.8 MB 2.9 MB/s eta 0:00:11\n",
      "   --------- ------------------------------ 9.4/38.8 MB 2.9 MB/s eta 0:00:11\n",
      "   ---------- ----------------------------- 10.2/38.8 MB 2.7 MB/s eta 0:00:11\n",
      "   ---------- ----------------------------- 10.2/38.8 MB 2.7 MB/s eta 0:00:11\n",
      "   ---------- ----------------------------- 10.5/38.8 MB 2.5 MB/s eta 0:00:12\n",
      "   ----------- ---------------------------- 10.7/38.8 MB 2.6 MB/s eta 0:00:11\n",
      "   ----------- ---------------------------- 11.5/38.8 MB 2.5 MB/s eta 0:00:11\n",
      "   ------------ --------------------------- 12.1/38.8 MB 2.5 MB/s eta 0:00:11\n",
      "   ------------ --------------------------- 12.6/38.8 MB 2.5 MB/s eta 0:00:11\n",
      "   ------------- -------------------------- 13.1/38.8 MB 2.6 MB/s eta 0:00:11\n",
      "   -------------- ------------------------- 13.9/38.8 MB 2.6 MB/s eta 0:00:10\n",
      "   -------------- ------------------------- 14.4/38.8 MB 2.6 MB/s eta 0:00:10\n",
      "   --------------- ------------------------ 14.9/38.8 MB 2.6 MB/s eta 0:00:10\n",
      "   ---------------- ----------------------- 15.7/38.8 MB 2.6 MB/s eta 0:00:09\n",
      "   ---------------- ----------------------- 16.3/38.8 MB 2.6 MB/s eta 0:00:09\n",
      "   ----------------- ---------------------- 16.8/38.8 MB 2.6 MB/s eta 0:00:09\n",
      "   ------------------ --------------------- 17.6/38.8 MB 2.6 MB/s eta 0:00:09\n",
      "   ------------------ --------------------- 18.1/38.8 MB 2.6 MB/s eta 0:00:08\n",
      "   ------------------- -------------------- 18.6/38.8 MB 2.6 MB/s eta 0:00:08\n",
      "   ------------------- -------------------- 19.4/38.8 MB 2.7 MB/s eta 0:00:08\n",
      "   -------------------- ------------------- 19.9/38.8 MB 2.7 MB/s eta 0:00:08\n",
      "   --------------------- ------------------ 20.4/38.8 MB 2.7 MB/s eta 0:00:07\n",
      "   --------------------- ------------------ 21.0/38.8 MB 2.7 MB/s eta 0:00:07\n",
      "   ---------------------- ----------------- 21.8/38.8 MB 2.7 MB/s eta 0:00:07\n",
      "   ---------------------- ----------------- 22.3/38.8 MB 2.7 MB/s eta 0:00:07\n",
      "   ----------------------- ---------------- 22.8/38.8 MB 2.7 MB/s eta 0:00:06\n",
      "   ------------------------ --------------- 23.6/38.8 MB 2.7 MB/s eta 0:00:06\n",
      "   ------------------------ --------------- 24.1/38.8 MB 2.7 MB/s eta 0:00:06\n",
      "   ------------------------- -------------- 24.6/38.8 MB 2.7 MB/s eta 0:00:06\n",
      "   -------------------------- ------------- 25.4/38.8 MB 2.7 MB/s eta 0:00:05\n",
      "   -------------------------- ------------- 26.0/38.8 MB 2.7 MB/s eta 0:00:05\n",
      "   --------------------------- ------------ 26.5/38.8 MB 2.7 MB/s eta 0:00:05\n",
      "   --------------------------- ------------ 27.0/38.8 MB 2.7 MB/s eta 0:00:05\n",
      "   ---------------------------- ----------- 27.8/38.8 MB 2.7 MB/s eta 0:00:05\n",
      "   ----------------------------- ---------- 28.3/38.8 MB 2.7 MB/s eta 0:00:04\n",
      "   ----------------------------- ---------- 28.8/38.8 MB 2.7 MB/s eta 0:00:04\n",
      "   ------------------------------ --------- 29.6/38.8 MB 2.7 MB/s eta 0:00:04\n",
      "   ------------------------------- -------- 30.1/38.8 MB 2.7 MB/s eta 0:00:04\n",
      "   ------------------------------- -------- 30.7/38.8 MB 2.7 MB/s eta 0:00:03\n",
      "   -------------------------------- ------- 31.5/38.8 MB 2.7 MB/s eta 0:00:03\n",
      "   -------------------------------- ------- 32.0/38.8 MB 2.7 MB/s eta 0:00:03\n",
      "   --------------------------------- ------ 32.8/38.8 MB 2.7 MB/s eta 0:00:03\n",
      "   ---------------------------------- ----- 33.3/38.8 MB 2.7 MB/s eta 0:00:03\n",
      "   ---------------------------------- ----- 33.8/38.8 MB 2.7 MB/s eta 0:00:02\n",
      "   ----------------------------------- ---- 34.6/38.8 MB 2.7 MB/s eta 0:00:02\n",
      "   ------------------------------------ --- 35.1/38.8 MB 2.7 MB/s eta 0:00:02\n",
      "   ------------------------------------ --- 35.7/38.8 MB 2.7 MB/s eta 0:00:02\n",
      "   ------------------------------------- -- 36.4/38.8 MB 2.7 MB/s eta 0:00:01\n",
      "   -------------------------------------- - 37.0/38.8 MB 2.7 MB/s eta 0:00:01\n",
      "   -------------------------------------- - 37.5/38.8 MB 2.7 MB/s eta 0:00:01\n",
      "   ---------------------------------------  38.3/38.8 MB 2.8 MB/s eta 0:00:01\n",
      "   ---------------------------------------  38.8/38.8 MB 2.8 MB/s eta 0:00:01\n",
      "   ---------------------------------------  38.8/38.8 MB 2.8 MB/s eta 0:00:01\n",
      "   ---------------------------------------- 38.8/38.8 MB 2.7 MB/s eta 0:00:00\n",
      "Installing collected packages: opencv-python\n",
      "Successfully installed opencv-python-4.10.0.84\n",
      "Note: you may need to restart the kernel to use updated packages.\n"
     ]
    }
   ],
   "source": [
    "pip install opencv-python"
   ]
  },
  {
   "cell_type": "code",
   "execution_count": 1,
   "metadata": {},
   "outputs": [],
   "source": [
    "# You can also use this section to suppress warnings generated by your code:\n",
    "def warn(*args, **kwargs):\n",
    "    pass\n",
    "\n",
    "\n",
    "import warnings\n",
    "warnings.warn = warn\n",
    "warnings.filterwarnings('ignore')\n",
    "\n",
    "import os\n",
    "os.environ['TF_CPP_MIN_LOG_LEVEL'] = '2' # tensorflow INFO and WARNING messages are not printed "
   ]
  },
  {
   "cell_type": "code",
   "execution_count": 3,
   "metadata": {},
   "outputs": [],
   "source": [
    "import random \n",
    "\n",
    "import pathlib\n",
    "import numpy as np\n",
    "import pandas as pd\n",
    "import matplotlib.pyplot as plt\n",
    "import seaborn as sns\n",
    "%matplotlib inline\n",
    "\n",
    "import PIL\n",
    "import PIL.Image\n",
    "from PIL import Image, ImageOps\n",
    "import tensorflow as tf\n",
    "\n",
    "import keras\n",
    "from keras.preprocessing import image\n",
    "import tensorflow as tf\n",
    "from tensorflow import keras\n",
    "from tensorflow.keras import layers\n",
    "from tensorflow.keras.preprocessing.image import load_img \n",
    "from keras.models import Model\n",
    "from keras.layers import Input, Dense\n",
    "\n",
    "import cv2\n",
    "\n",
    "sns.set_context('notebook')\n",
    "sns.set_style('white')"
   ]
  },
  {
   "cell_type": "markdown",
   "metadata": {},
   "source": [
    "### Defining Helper Functions\n"
   ]
  },
  {
   "cell_type": "code",
   "execution_count": 5,
   "metadata": {},
   "outputs": [],
   "source": [
    "# This function will allow us to visualize four sample images from the loaded toy image dataset. \n",
    "def visualize(X_train):\n",
    "    plt.rcParams['figure.figsize'] = (6,6) \n",
    "\n",
    "    for i in range(4):\n",
    "        plt.subplot(2,2,i+1)\n",
    "        num = random.randint(0, len(X_train))\n",
    "        plt.imshow(X_train[num], cmap='gray', interpolation='none', vmin=0, vmax=255)\n",
    "        plt.title(\"class {}\".format(y_train[num]))\n",
    "    \n",
    "    plt.tight_layout()"
   ]
  },
  {
   "cell_type": "markdown",
   "metadata": {},
   "source": [
    "## Background\n"
   ]
  },
  {
   "cell_type": "markdown",
   "metadata": {},
   "source": [
    "Keras is an open-source Python library used for developing and evaluating deep learning models. It provides utilities for loading, preparing, converting, augmenting, and saving image data. In this lab, we will explore various ways of loading image datasets in Keras.\n"
   ]
  },
  {
   "cell_type": "code",
   "execution_count": 7,
   "metadata": {},
   "outputs": [
    {
     "name": "stdout",
     "output_type": "stream",
     "text": [
      "2.17.0\n"
     ]
    }
   ],
   "source": [
    "# Print tensorflow version\n",
    "print(tf.__version__)\n",
    "\n",
    "# Try !pip install --upgrade tensorflow if the version printed\n",
    "# is less than 2.9.0"
   ]
  },
  {
   "cell_type": "markdown",
   "metadata": {},
   "source": [
    "## Ways to load images\n"
   ]
  },
  {
   "cell_type": "markdown",
   "metadata": {},
   "source": [
    "We will look into four main ways of using image datasets in Keras:\n",
    "\n",
    "*   Loading in a ready-to-use toy dataset from [Keras](https://keras.io/api/datasets/?utm_medium=Exinfluencer&utm_source=Exinfluencer&utm_content=000026UJ&utm_term=10006555&utm_id=NA-SkillsNetwork-Channel-SkillsNetworkCoursesIBMDeveloperSkillsNetworkML311Coursera35714171-2022-01-01)\n",
    "*   Loading individual images as PIL objects\n",
    "*   Reading a directory of images on disk using `tf.keras.utils.image_dataset_from_directory`.\n",
    "*   Loading image from URL\n"
   ]
  },
  {
   "cell_type": "markdown",
   "metadata": {},
   "source": [
    "### A. Ready-to-use toy datasets\n"
   ]
  },
  {
   "cell_type": "markdown",
   "metadata": {},
   "source": [
    "The `tf.keras.datasets` in Keras provide a few in-built image datasets that have been cleaned and are typically helpful in debugging models, or creating simple examples.\n",
    "\n",
    "These include MNIST hand-written digits, Fashion MNIST, CIFAR10, and CIFAR100.\n"
   ]
  },
  {
   "cell_type": "markdown",
   "metadata": {},
   "source": [
    "**MNIST hand-written digits** is a collection of 60,000 28x28 grayscale images belonging to 10 different classes, along with a test set of 10,000 images. Let us load in the MNIST hand-written digits dataset using the `load_data` function.\n"
   ]
  },
  {
   "cell_type": "code",
   "execution_count": 9,
   "metadata": {},
   "outputs": [
    {
     "name": "stdout",
     "output_type": "stream",
     "text": [
      "Downloading data from https://storage.googleapis.com/tensorflow/tf-keras-datasets/mnist.npz\n",
      "\u001b[1m11490434/11490434\u001b[0m \u001b[32m━━━━━━━━━━━━━━━━━━━━\u001b[0m\u001b[37m\u001b[0m \u001b[1m5s\u001b[0m 0us/step\n"
     ]
    }
   ],
   "source": [
    "(X_train, y_train), (X_test, y_test) = keras.datasets.mnist.load_data()"
   ]
  },
  {
   "cell_type": "markdown",
   "metadata": {},
   "source": [
    "X_train is a uint8 numpy array of grayscale images with shapes (60000, 28, 28) from the training dataset. Its pixel values range from 0 to 255.\n",
    "\n",
    "y_train is a uint8 numpy array of digit labels (integers in range 0-9) with shape (60000) for the training data.\n"
   ]
  },
  {
   "cell_type": "code",
   "execution_count": 11,
   "metadata": {},
   "outputs": [
    {
     "name": "stdout",
     "output_type": "stream",
     "text": [
      "(60000, 28, 28)\n",
      "uint8\n",
      "(60000,)\n",
      "uint8\n"
     ]
    }
   ],
   "source": [
    "print(X_train.shape)\n",
    "print(X_train.dtype)\n",
    "print(y_train.shape)\n",
    "print(y_train.dtype)"
   ]
  },
  {
   "cell_type": "markdown",
   "metadata": {},
   "source": [
    "Let's visualize four random images from the training set. Only one color channel is needed to display the image as a grayscale. So for this step, we take a single color channel and display the image using the `plt.imshow()` method with `cmap` set to `gray`, `vmin` set to 0, and `vmax` set to 255.\n"
   ]
  },
  {
   "cell_type": "code",
   "execution_count": 13,
   "metadata": {},
   "outputs": [
    {
     "data": {
      "image/png": "[encoded data removed]",
      "text/plain": [
       "<Figure size 600x600 with 4 Axes>"
      ]
     },
     "metadata": {},
     "output_type": "display_data"
    }
   ],
   "source": [
    "visualize(X_train)"
   ]
  },
  {
   "cell_type": "markdown",
   "metadata": {},
   "source": [
    "#### Using image data with Autoencoders\n"
   ]
  },
  {
   "cell_type": "markdown",
   "metadata": {},
   "source": [
    "As you will see in future labs, an autoencoder (AE) is a neural network where the input is the same as the output.  \n",
    "\n",
    "To build an AE, you need three things:\n",
    "\n",
    "* an encoding function\n",
    "* a decoding function\n",
    "* distance function between the amount of information loss between the compressed representation of your data and the decompressed representation, that is, a loss function\n",
    "\n",
    "Some practical applications of AEs are data denoising and dimensionality reduction for data visualization.\n"
   ]
  },
  {
   "cell_type": "markdown",
   "metadata": {},
   "source": [
    "We can define a size for our encoded representations, and use `Dense()` to create encoded representation of the input. Similarly, we can use `Dense()` to create lossy reconstructions of the input. As seen below, `encoded` has a shape of (None, 64) and `reconstruction` has the original input size of (None, 784).\n"
   ]
  },
  {
   "cell_type": "code",
   "execution_count": null,
   "metadata": {},
   "outputs": [],
   "source": [
    "ENCODING_DIM = 64\n",
    "\n",
    "# Encoded representations:\n",
    "inputs = Input(shape=(784,)) \n",
    "encoded = Dense(ENCODING_DIM, activation=\"sigmoid\")(inputs)\n",
    "\n",
    "# Reconstructions:\n",
    "encoded_inputs = Input(shape=(ENCODING_DIM,), name='encoding')\n",
    "reconstruction = Dense(784, activation=\"sigmoid\")(encoded_inputs)\n",
    "\n",
    "print(\"Encoded Input: \", encoded.shape)\n",
    "print(\"Reconstructed Input: \", reconstruction.shape)"
   ]
  },
  {
   "cell_type": "markdown",
   "metadata": {},
   "source": [
    "Using this technique, we can instantiate three types of models:\n",
    "\n",
    "* End-to-end AEs mapping inputs to reconstructions\n",
    "* An encoder mapping inputs to the latent space\n",
    "* A decoder that takes in points from latent space and output corresponding reconstructed samples\n"
   ]
  },
  {
   "cell_type": "markdown",
   "metadata": {},
   "source": [
    "### Exercise 1 - Load Fashion MNIST\n"
   ]
  },
  {
   "cell_type": "markdown",
   "metadata": {},
   "source": [
    "**Fashion MNIST** is another collection of 60,000 28x28 grayscale images belonging to 10 different classes, along with a test set of 10,000 images. Write code to load the Fashion MNIST dataset using  `fashion_mnist.load_data()` from `keras.datasets`.\n"
   ]
  },
  {
   "cell_type": "code",
   "execution_count": null,
   "metadata": {},
   "outputs": [],
   "source": [
    "# Write your code here\n"
   ]
  },
  {
   "cell_type": "markdown",
   "metadata": {},
   "source": [
    "<details>\n",
    "    <summary>Click here for solution</summary>\n",
    "\n",
    "```python\n",
    "\n",
    "(X_train, y_train), (X_test, y_test) = keras.datasets.fashion_mnist.load_data()\n",
    "\n",
    "```\n",
    "\n",
    "</details>\n"
   ]
  },
  {
   "cell_type": "markdown",
   "metadata": {},
   "source": [
    "X_train is a uint8 numpy array of grayscale images with shapes (60000, 28, 28) from the training dataset. Its pixel values range from 0 to 255.\n",
    "\n",
    "y_train is a uint8 numpy array of digit labels (integers in range 0-9) with shape (60000,) for the training data.\n"
   ]
  },
  {
   "cell_type": "markdown",
   "metadata": {},
   "source": [
    "Now print the shape and dtype of the X_train and y_train arrays.\n"
   ]
  },
  {
   "cell_type": "code",
   "execution_count": null,
   "metadata": {},
   "outputs": [],
   "source": []
  },
  {
   "cell_type": "markdown",
   "metadata": {},
   "source": [
    "Display a few randomly selected images as grayscale using the `visualize()` helper function.\n"
   ]
  },
  {
   "cell_type": "code",
   "execution_count": null,
   "metadata": {},
   "outputs": [],
   "source": [
    "# Write your code here\n",
    "# Visualize a few images from the training set\n",
    "\n"
   ]
  },
  {
   "cell_type": "markdown",
   "metadata": {},
   "source": [
    "<details><summary>Solution</summary>\n",
    "\n",
    "```python\n",
    "visualize(X_train) \n",
    "\n",
    "```\n",
    "\n",
    "</details>\n"
   ]
  },
  {
   "cell_type": "markdown",
   "metadata": {},
   "source": [
    "**CIFAR10** is a collection of 50,000 32x32 color training images labeled over 10 different categories, along with a test set of 10,000 images.\n"
   ]
  },
  {
   "cell_type": "code",
   "execution_count": null,
   "metadata": {},
   "outputs": [],
   "source": [
    "(X_train, y_train), (X_test, y_test) = keras.datasets.cifar10.load_data()"
   ]
  },
  {
   "cell_type": "markdown",
   "metadata": {},
   "source": [
    "X_train is a uint8 numpy array of grayscale image data with shapes (50000, 32, 32, 3), containing the training data. Pixel values range from 0 to 255.\n",
    "\n",
    "y_train is a uint8 NumPy array of labels (integers in range 0-9) with shape (50000, 1) for the training data.\n"
   ]
  },
  {
   "cell_type": "code",
   "execution_count": null,
   "metadata": {},
   "outputs": [],
   "source": [
    "print(X_train.shape)\n",
    "print(X_train.dtype)"
   ]
  },
  {
   "cell_type": "code",
   "execution_count": null,
   "metadata": {},
   "outputs": [],
   "source": [
    "visualize(X_train)"
   ]
  },
  {
   "cell_type": "markdown",
   "metadata": {},
   "source": [
    "**CIFAR100** is a collection of 50,000 32x32 color training images labeled over 100 fine-grained classes and 20 coarse-grained classes, along with a test set of 10,000 images. The 100 classes in the CIFAR-100 are grouped into 20 superclasses. Each image comes with a \"fine\" label (label) and a \"coarse\" label (superclass).\n"
   ]
  },
  {
   "cell_type": "markdown",
   "metadata": {},
   "source": [
    "Using the fine `label_mode`:\n"
   ]
  },
  {
   "cell_type": "code",
   "execution_count": null,
   "metadata": {},
   "outputs": [],
   "source": [
    "(X_train, y_train), (X_test, y_test) = keras.datasets.cifar100.load_data(label_mode = 'fine')"
   ]
  },
  {
   "cell_type": "markdown",
   "metadata": {},
   "source": [
    "X_train is a uint8 numpy array of grayscale image data with shapes (50000, 32, 32, 3), containing the training data. Pixel values range from 0 to 255.\n",
    "\n",
    "y_train is a uint8 numpy array of labels (integers in range 0-99) with shape (50000, 1) for the training data.\n"
   ]
  },
  {
   "cell_type": "code",
   "execution_count": null,
   "metadata": {},
   "outputs": [],
   "source": [
    "print(X_train.shape)\n",
    "print(X_train.dtype)"
   ]
  },
  {
   "cell_type": "code",
   "execution_count": null,
   "metadata": {},
   "outputs": [],
   "source": [
    "visualize(X_train)"
   ]
  },
  {
   "cell_type": "markdown",
   "metadata": {},
   "source": [
    "### Exercise 2 - Load CIFAR100 with coarse label_mode\n"
   ]
  },
  {
   "cell_type": "markdown",
   "metadata": {},
   "source": [
    "Load the CIFAR100 dataset by setting the pramter ```label_mode = 'coarse'``` in the ```load_data``` function .\n"
   ]
  },
  {
   "cell_type": "code",
   "execution_count": null,
   "metadata": {},
   "outputs": [],
   "source": [
    "# Write your solution here\n",
    "# Load the Fashion CIFAR100 dataset using the coarse label_mode\n",
    "\n"
   ]
  },
  {
   "cell_type": "markdown",
   "metadata": {},
   "source": [
    "<details><summary>Solution</summary>\n",
    "\n",
    "```python\n",
    "(X_train, y_train), (X_test, y_test) = keras.datasets.cifar100.load_data(label_mode = 'coarse')\n",
    "\n",
    "```\n",
    "\n",
    "</details>\n"
   ]
  },
  {
   "cell_type": "markdown",
   "metadata": {},
   "source": [
    "Visualize a few images from the training set using the `visualize()` helper function.\n"
   ]
  },
  {
   "cell_type": "code",
   "execution_count": null,
   "metadata": {},
   "outputs": [],
   "source": [
    "# Write your solution here\n"
   ]
  },
  {
   "cell_type": "markdown",
   "metadata": {},
   "source": [
    "<details><summary>Solution</summary>\n",
    "\n",
    "```python\n",
    "visualize(X_train)\n",
    "\n",
    "```\n",
    "\n",
    "</details>\n"
   ]
  },
  {
   "cell_type": "markdown",
   "metadata": {},
   "source": [
    "### B. Load individual images as PIL objects\n"
   ]
  },
  {
   "cell_type": "markdown",
   "metadata": {},
   "source": [
    "We will save the following image into our working environment.\n"
   ]
  },
  {
   "cell_type": "code",
   "execution_count": null,
   "metadata": {},
   "outputs": [],
   "source": [
    "import requests\n",
    "\n",
    "URL = 'https://cf-courses-data.s3.us.cloud-object-storage.appdomain.cloud/IBMDeveloperSkillsNetwork-ML311-Coursera/labs/Module3/L1/Dog_Breeds.jpg'\n",
    "filename = URL.split('/')[-1]\n",
    "r = requests.get(URL, allow_redirects=True)\n",
    "open(filename, 'wb').write(r.content)"
   ]
  },
  {
   "cell_type": "markdown",
   "metadata": {},
   "source": [
    "Next, we will specify a `target_size` of the image using a tuple of ints.\n"
   ]
  },
  {
   "cell_type": "code",
   "execution_count": null,
   "metadata": {},
   "outputs": [],
   "source": [
    "img_height, img_width = 100, 100"
   ]
  },
  {
   "cell_type": "markdown",
   "metadata": {},
   "source": [
    "Using the path of the image we saved, we will use the `load_img` function to return a PIL Image instance.\n"
   ]
  },
  {
   "cell_type": "code",
   "execution_count": null,
   "metadata": {},
   "outputs": [],
   "source": [
    "gray_img = load_img(\n",
    "    'Dog_Breeds.jpg',\n",
    "    target_size=(img_height, img_width),\n",
    "    interpolation='nearest', grayscale = True)\n",
    "\n",
    "color_img = load_img(\n",
    "    'Dog_Breeds.jpg',\n",
    "    target_size=(img_height, img_width),\n",
    "    interpolation='nearest', grayscale = False)\n",
    "\n",
    "\n",
    "print(type(gray_img))\n",
    "print(type(color_img))"
   ]
  },
  {
   "cell_type": "markdown",
   "metadata": {},
   "source": [
    "We can plot each image \n"
   ]
  },
  {
   "cell_type": "code",
   "execution_count": null,
   "metadata": {},
   "outputs": [],
   "source": [
    "plt.imshow(gray_img,cmap=\"gray\")\n",
    "plt.show()"
   ]
  },
  {
   "cell_type": "code",
   "execution_count": null,
   "metadata": {},
   "outputs": [],
   "source": [
    "plt.imshow(color_img)\n",
    "plt.show()"
   ]
  },
  {
   "cell_type": "markdown",
   "metadata": {},
   "source": [
    "#### Converting an image\n"
   ]
  },
  {
   "cell_type": "markdown",
   "metadata": {},
   "source": [
    "We can convert the PIL image to a 3D numpy array of pixel data, and a single image to a batch using the following code:\n"
   ]
  },
  {
   "cell_type": "code",
   "execution_count": null,
   "metadata": {},
   "outputs": [],
   "source": [
    "input_arr = tf.keras.preprocessing.image.img_to_array(color_img)\n",
    "\n",
    "\n",
    "print(\"image shape\",input_arr.shape)\n"
   ]
  },
  {
   "cell_type": "markdown",
   "metadata": {},
   "source": [
    "We need to add the batch dimension before the using  Keras, we can add the batch dimension as follows:\n"
   ]
  },
  {
   "cell_type": "code",
   "execution_count": null,
   "metadata": {},
   "outputs": [],
   "source": [
    "# Convert single image to a batch\n",
    "input_arr_batch = np.array([input_arr])\n",
    "#or\n",
    "input_arr_batch=input_arr.reshape(-1,input_arr.shape[0],input_arr.shape[1],input_arr.shape[2])"
   ]
  },
  {
   "cell_type": "code",
   "execution_count": null,
   "metadata": {},
   "outputs": [],
   "source": [
    "print(\"image shape plus batch dimension\",input_arr_batch.shape)"
   ]
  },
  {
   "cell_type": "markdown",
   "metadata": {},
   "source": [
    "Similarly, we can convert a numpy array of pixel data back to an image.\n"
   ]
  },
  {
   "cell_type": "code",
   "execution_count": null,
   "metadata": {},
   "outputs": [],
   "source": [
    "# Write your solution here\n",
    "# Convert the numpy array back to an image\n",
    "color_img = tf.keras.preprocessing.image.array_to_img(input_arr)\n",
    "plt.imshow(color_img)\n",
    "plt.show()"
   ]
  },
  {
   "cell_type": "markdown",
   "metadata": {},
   "source": [
    "#### Saving an image\n"
   ]
  },
  {
   "cell_type": "code",
   "execution_count": null,
   "metadata": {},
   "outputs": [],
   "source": [
    "tf.keras.preprocessing.image.save_img('dog_color_img.jpg', color_img)"
   ]
  },
  {
   "cell_type": "markdown",
   "metadata": {},
   "source": [
    "### C. Load from directory of images\n"
   ]
  },
  {
   "cell_type": "markdown",
   "metadata": {},
   "source": [
    "We can use the `ImageDataGenerator` class in Keras to load train, test, and validation datasets. This is especially useful when working with datasets containing several thousand or millions of images. More details on content provided in this sub-section can be found in the Tensorflow [documentation](https://www.tensorflow.org/tutorials/load_data/images?utm_medium=Exinfluencer&utm_source=Exinfluencer&utm_content=000026UJ&utm_term=10006555&utm_id=NA-SkillsNetwork-Channel-SkillsNetworkCoursesIBMDeveloperSkillsNetworkML311Coursera35714171-2022-01-01).\n"
   ]
  },
  {
   "cell_type": "markdown",
   "metadata": {},
   "source": [
    "We will first load in our dataset of flowers, and then look at what we have.\n",
    "\n",
    "The dataset has five types of flowers.\n",
    "\n",
    "| Category | Flower       |\n",
    "| -------- | ------------ |\n",
    "| 0        | `Daisies`    |\n",
    "| 1        | `Dandelions` |\n",
    "| 2        | `Roses`      |\n",
    "| 3        | `Sunflowers` |\n",
    "| 4        | `Tulips`     |\n",
    "\n",
    "Let's load the data and take a look.\n",
    "\n",
    "Because the flower dataset is not one of the default small toy datasets available, we'll need to download it using the `keras.utils.get_file()` function.  \n",
    "Note that you will only need to specify the first three arguments.\n",
    "\n",
    "```python\n",
    "keras.utils.get_file(\n",
    "    fname=None,\n",
    "    origin=None,\n",
    "    untar=False,\n",
    "    md5_hash=None,\n",
    "    file_hash=None,\n",
    "    cache_subdir='datasets',\n",
    "    hash_algorithm='auto',\n",
    "    extract=False,\n",
    "    archive_format='auto',\n",
    "    cache_dir=None\n",
    ")\n",
    "```\n"
   ]
  },
  {
   "cell_type": "code",
   "execution_count": null,
   "metadata": {},
   "outputs": [],
   "source": [
    "import pathlib\n",
    "dataset_url = \"https://cf-courses-data.s3.us.cloud-object-storage.appdomain.cloud/IBMDeveloperSkillsNetwork-ML311-Coursera/datasets/flower_photos.tgz\"\n",
    "\n",
    "# Download the data and track where it's saved using tf.keras.utils.get_file in a variable called data_dir\n",
    "data_dir = keras.utils.get_file(origin=dataset_url,\n",
    "                                   fname='flower_photos',\n",
    "                                   untar=True)\n",
    "data_dir = pathlib.Path(data_dir)\n",
    "\n",
    "for folder in data_dir.glob('[!LICENSE]*'):\n",
    "    print('The', folder.name, 'folder has', len(list(folder.glob('*.jpg'))), 'pictures')\n",
    "image_count = len(list(data_dir.glob('*/*.jpg')))\n",
    "print(image_count, 'total images')"
   ]
  },
  {
   "cell_type": "markdown",
   "metadata": {},
   "source": [
    "The files are stored in the following directory.\n",
    "\n",
    "```python\n",
    "flower_photos\n",
    "    └── daisy\n",
    "    └── dandelion\n",
    "    └── roses\n",
    "    └── sunflowers\n",
    "    └── tulips\n",
    "\n",
    "```\n"
   ]
  },
  {
   "cell_type": "markdown",
   "metadata": {},
   "source": [
    "It seems there are a substantial amount of photos for each type of photo.\n",
    "\n",
    "We can checkout some of the images below.\n"
   ]
  },
  {
   "cell_type": "markdown",
   "metadata": {},
   "source": [
    "#### Visualizing images\n"
   ]
  },
  {
   "cell_type": "code",
   "execution_count": null,
   "metadata": {},
   "outputs": [],
   "source": [
    "dandelion = list(data_dir.glob('dandelion/*'))\n",
    "PIL.Image.open(str(dandelion[1]))"
   ]
  },
  {
   "cell_type": "code",
   "execution_count": null,
   "metadata": {},
   "outputs": [],
   "source": [
    "roses = list(data_dir.glob('roses/*'))\n",
    "PIL.Image.open(str(roses[1]))"
   ]
  },
  {
   "cell_type": "code",
   "execution_count": null,
   "metadata": {},
   "outputs": [],
   "source": [
    "sunflowers = list(data_dir.glob('sunflowers/*'))\n",
    "PIL.Image.open(str(sunflowers[1]))"
   ]
  },
  {
   "cell_type": "code",
   "execution_count": null,
   "metadata": {},
   "outputs": [],
   "source": [
    "daisy = list(data_dir.glob('daisy/*'))\n",
    "\n",
    "PIL.Image.open(str(daisy[1]))"
   ]
  },
  {
   "cell_type": "markdown",
   "metadata": {},
   "source": [
    "We can see that these photos are in various lighting conditions, framing, sizes, and zoom.\n"
   ]
  },
  {
   "cell_type": "code",
   "execution_count": null,
   "metadata": {},
   "outputs": [],
   "source": [
    "# The batch size simply specifies the number of images to pass through our neural network at a time, until the entire training set is passed through. 32 is the default\n",
    "batch_size = 32\n",
    "\n",
    "# Here we set the size of all the images to be 200x200\n",
    "img_height = 200\n",
    "img_width = 200"
   ]
  },
  {
   "cell_type": "markdown",
   "metadata": {},
   "source": [
    "Here we split our images into training and validation sets using the `keras.utils.image_dataset_from_directory()` function.\n",
    "\n",
    "*   Because our flower images are sorted into subfolders named after the type of flower, this method can automatically load in images and label them with the correct classes.\n",
    "*   In order to plug these photos into our neural network as an input, we'll have to standardize the image sizes. We can do that with the `image_size` argument.\n"
   ]
  },
  {
   "cell_type": "markdown",
   "metadata": {},
   "source": [
    "Let us use `image_dataset_from_directory` to load images off disk:\n"
   ]
  },
  {
   "cell_type": "code",
   "execution_count": null,
   "metadata": {},
   "outputs": [],
   "source": [
    "train_ds = tf.keras.utils.image_dataset_from_directory(\n",
    "  data_dir,\n",
    "  validation_split=0.2,\n",
    "  subset=\"training\",\n",
    "  seed=123,\n",
    "  image_size=(img_height, img_width),\n",
    "  batch_size=batch_size)"
   ]
  },
  {
   "cell_type": "markdown",
   "metadata": {},
   "source": [
    "### Exercise 3 - Load validation set from the directory\n"
   ]
  },
  {
   "cell_type": "markdown",
   "metadata": {},
   "source": [
    "Use the `image_dataset_from_directory` to load the validation set from the directory\n"
   ]
  },
  {
   "cell_type": "code",
   "execution_count": null,
   "metadata": {},
   "outputs": [],
   "source": [
    "# Write your code here\n",
    "\n"
   ]
  },
  {
   "cell_type": "markdown",
   "metadata": {},
   "source": [
    "<details><summary>Solution</summary>\n",
    "\n",
    "```python\n",
    "  validation_ds = tf.keras.utils.image_dataset_from_directory(\n",
    "  data_dir,\n",
    "  validation_split=0.2,\n",
    "  subset=\"validation\",\n",
    "  seed=123,\n",
    "  image_size=(img_height, img_width),\n",
    "  batch_size=batch_size)\n",
    "\n",
    "```\n",
    "\n",
    "</details>\n"
   ]
  },
  {
   "cell_type": "markdown",
   "metadata": {},
   "source": [
    "We can show the class names \n"
   ]
  },
  {
   "cell_type": "code",
   "execution_count": null,
   "metadata": {},
   "outputs": [],
   "source": [
    "class_names = train_ds.class_names\n",
    "class_names"
   ]
  },
  {
   "cell_type": "markdown",
   "metadata": {},
   "source": [
    "Let's look at some sample rows from the dataset we loaded:\n"
   ]
  },
  {
   "cell_type": "code",
   "execution_count": null,
   "metadata": {},
   "outputs": [],
   "source": [
    "# .take() will take the first batch from a tensorflow dataset. \n",
    "# In our case it has taken the first 32 images.\n",
    "first_batch = train_ds.take(1)\n",
    "\n",
    "plt.figure(figsize = (25,10))\n",
    "for img, lbl in first_batch:\n",
    "    # lets look at the first 10 images\n",
    "    for i in np.arange(10):\n",
    "        plt.subplot(2,5,i+1)\n",
    "        plt.imshow(img[i].numpy().astype('uint8'))\n",
    "        plt.title(class_names[lbl[i]])\n",
    "        plt.axis(\"off\")"
   ]
  },
  {
   "cell_type": "markdown",
   "metadata": {},
   "source": [
    "We can see that after importing our images, they're all exactly square with `200 x 200` pixels.\n"
   ]
  },
  {
   "cell_type": "markdown",
   "metadata": {},
   "source": [
    "#### Augmenting Images\n"
   ]
  },
  {
   "cell_type": "markdown",
   "metadata": {},
   "source": [
    "Next, we will see how we can use `ImageDataGenerator` class to create tensor image data batches that have been augmented to have certain characteristics. Image data augmentation is useful in expanding the training dataset in order to improve the performance and ability of the model to generalize. Here are some ways in which we can augment images in our dataset:\n"
   ]
  },
  {
   "cell_type": "markdown",
   "metadata": {},
   "source": [
    "*   **rescale**: rescaling factor\n",
    "*   **rotation_range**: degree of random rotations of the images\n",
    "*   **width_shift_range**: upper bound for random shift, either left or right\n",
    "*   **height_shift_range**: upper bound for random shift, either up or down\n",
    "*   **vertical_flip**: flip the image vertically\n"
   ]
  },
  {
   "cell_type": "markdown",
   "metadata": {},
   "source": [
    "Further details on these options can be found in the Tensorflow [documentation](https://www.tensorflow.org/api_docs/python/tf/keras/preprocessing/image/ImageDataGenerator?utm_medium=Exinfluencer&utm_source=Exinfluencer&utm_content=000026UJ&utm_term=10006555&utm_id=NA-SkillsNetwork-Channel-SkillsNetworkCoursesIBMDeveloperSkillsNetworkML311Coursera35714171-2022-01-01).\n"
   ]
  },
  {
   "cell_type": "code",
   "execution_count": null,
   "metadata": {},
   "outputs": [],
   "source": [
    "import tensorflow as tf\n",
    "\n",
    "img_gen = tf.keras.preprocessing.image.ImageDataGenerator(\n",
    "    rescale=1.0 / 255,\n",
    "    rotation_range=20,\n",
    "    width_shift_range=0.2,\n",
    "    height_shift_range=0.2,\n",
    "    vertical_flip=True,\n",
    ")\n",
    "\n",
    "flowers_data = img_gen.flow_from_directory(data_dir)\n",
    "images, labels = next(flowers_data)\n",
    "\n",
    "print(images.shape)\n",
    "print(labels.shape)"
   ]
  },
  {
   "cell_type": "markdown",
   "metadata": {},
   "source": [
    "### Exercise 4 - Visualizing augmented images\n"
   ]
  },
  {
   "cell_type": "markdown",
   "metadata": {},
   "source": [
    "Visualize 10 images from the augmented tensor image data batch.\n"
   ]
  },
  {
   "cell_type": "code",
   "execution_count": null,
   "metadata": {},
   "outputs": [],
   "source": [
    "# Write your code here\n",
    "\n",
    "\n",
    "    "
   ]
  },
  {
   "cell_type": "markdown",
   "metadata": {},
   "source": [
    "<details><summary>Solution</summary>\n",
    "\n",
    "```python\n",
    "plt.figure(figsize=(25, 10))\n",
    "for i in range(10):\n",
    "    plt.subplot(2,5,i+1)\n",
    "    plt.imshow(images[i])\n",
    "    index = [index for index, each_item in enumerate(labels[i]) if each_item]\n",
    "    plt.title(list(flowers_data.class_indices.keys())[index[0]])\n",
    "    plt.axis(\"off\")\n",
    "    \n",
    "```\n",
    "\n",
    "</details>\n"
   ]
  },
  {
   "cell_type": "markdown",
   "metadata": {},
   "source": [
    "### D. Load image from URL\n"
   ]
  },
  {
   "cell_type": "markdown",
   "metadata": {},
   "source": [
    "In the _Load individual images as PIL objects section_, we saw how we can download images to our working directory and, using the path of the image we saved, use the `load_img` function to return a PIL Image instance.\n"
   ]
  },
  {
   "cell_type": "markdown",
   "metadata": {},
   "source": [
    "We can use custom functions like the one below to load images from a URL. This function was  borrowed from [statsmaths](https://statsmaths.github.io/stat289-f18/solutions/tutorial28-keras-images.html?utm_medium=Exinfluencer&utm_source=Exinfluencer&utm_content=000026UJ&utm_term=10006555&utm_id=NA-SkillsNetwork-Channel-SkillsNetworkCoursesIBMDeveloperSkillsNetworkML311Coursera35714171-2022-01-01).\n"
   ]
  },
  {
   "cell_type": "code",
   "execution_count": null,
   "metadata": {},
   "outputs": [],
   "source": [
    "def load_image(link, target_size=None):\n",
    "    import requests\n",
    "    import shutil\n",
    "    import os\n",
    "    _, ext = os.path.splitext(link)\n",
    "    r = requests.get(link, stream=True)\n",
    "    with open('temp.' + ext, 'wb') as f:\n",
    "        r.raw.decode_content = True\n",
    "        shutil.copyfileobj(r.raw, f)\n",
    "    img = tf.keras.preprocessing.image.load_img('temp.' + ext, target_size=target_size)\n",
    "    return tf.keras.preprocessing.image.img_to_array(img)"
   ]
  },
  {
   "cell_type": "code",
   "execution_count": null,
   "metadata": {},
   "outputs": [],
   "source": [
    "URL = 'https://cf-courses-data.s3.us.cloud-object-storage.appdomain.cloud/IBMDeveloperSkillsNetwork-ML311-Coursera/labs/Module3/L1/Dog_Breeds.jpg'\n",
    "\n",
    "img = load_image(URL, target_size=(100, 100))\n",
    "plt.imshow(img/255)"
   ]
  },
  {
   "cell_type": "markdown",
   "metadata": {},
   "source": [
    "## Authors\n"
   ]
  },
  {
   "cell_type": "markdown",
   "metadata": {},
   "source": [
    "[Kopal Garg](https://www.linkedin.com/in/gargkopal/?utm_medium=Exinfluencer&utm_source=Exinfluencer&utm_content=000026UJ&utm_term=10006555&utm_id=NA-SkillsNetwork-Channel-SkillsNetworkCoursesIBMDeveloperSkillsNetworkML311Coursera35714171-2022-01-01)\n"
   ]
  },
  {
   "cell_type": "markdown",
   "metadata": {},
   "source": [
    "Kopal Garg is a Masters student in Computer Science at the University of Toronto.\n"
   ]
  },
  {
   "cell_type": "markdown",
   "metadata": {},
   "source": [
    "### Other Contributors\n"
   ]
  },
  {
   "cell_type": "markdown",
   "metadata": {},
   "source": [
    "[Richard Ye](https://linkedin.com/in/richard-ye?utm_medium=Exinfluencer&utm_source=Exinfluencer&utm_content=000026UJ&utm_term=10006555&utm_id=NA-SkillsNetwork-Channel-SkillsNetworkCoursesIBMDeveloperSkillsNetworkML311Coursera35714171-2022-01-01), [Roxanne Li](https://www.linkedin.com/in/roxanne-li/?utm_medium=Exinfluencer&utm_source=Exinfluencer&utm_content=000026UJ&utm_term=10006555&utm_id=NA-SkillsNetwork-Channel-SkillsNetworkCoursesIBMDeveloperSkillsNetworkML311Coursera35714171-2022-01-01)\n"
   ]
  },
  {
   "cell_type": "markdown",
   "metadata": {},
   "source": [
    "## Change Log\n"
   ]
  },
  {
   "cell_type": "markdown",
   "metadata": {},
   "source": [
    "| Date (YYYY-MM-DD) | Version | Changed By  | Change Description |\n",
    "| ----------------- | ------- | ----------- | ------------------ |\n",
    "| 2022-05-23        | 0.1     | Kopal Garg  | Created Lab        |\n",
    "| 2022-05-23        | 0.1     | Richard Ye  | Load from directory of images        |\n",
    "| 2022-05-30        | 0.1     | Roxanne Li  | Review and edit content|\n",
    "| 2022-07-19        | 0.1     | Steve Hord  | QA pass |\n"
   ]
  },
  {
   "cell_type": "markdown",
   "metadata": {},
   "source": [
    "Copyright © 2022 IBM Corporation. All rights reserved.\n"
   ]
  }
 ],
 "metadata": {
  "kernelspec": {
   "display_name": "Python 3 (ipykernel)",
   "language": "python",
   "name": "python3"
  },
  "language_info": {
   "codemirror_mode": {
    "name": "ipython",
    "version": 3
   },
   "file_extension": ".py",
   "mimetype": "text/x-python",
   "name": "python",
   "nbconvert_exporter": "python",
   "pygments_lexer": "ipython3",
   "version": "3.12.4"
  },
  "prev_pub_hash": "f883a44d4354b7f6d605286efd229cf3c45bdc0c48451e1eb874db81463376f3"
 },
 "nbformat": 4,
 "nbformat_minor": 4
}
